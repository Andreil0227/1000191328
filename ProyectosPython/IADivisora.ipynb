{
  "nbformat": 4,
  "nbformat_minor": 0,
  "metadata": {
    "colab": {
      "provenance": []
    },
    "kernelspec": {
      "name": "python3",
      "display_name": "Python 3"
    },
    "language_info": {
      "name": "python"
    }
  },
  "cells": [
    {
      "cell_type": "code",
      "execution_count": null,
      "metadata": {
        "id": "vr9KbwIM3aIp"
      },
      "outputs": [],
      "source": [
        "#IA creada en tensorflow para hacer divisiones.\n",
        "import tensorflow as tf\n",
        "import numpy as np"
      ]
    },
    {
      "cell_type": "code",
      "source": [],
      "metadata": {
        "id": "ShL7X1pv90oq"
      },
      "execution_count": null,
      "outputs": []
    },
    {
      "cell_type": "markdown",
      "source": [
        "# Nueva sección"
      ],
      "metadata": {
        "id": "ulqAg2ml93bo"
      }
    },
    {
      "cell_type": "code",
      "source": [
        "dividendo = np.array ([1, 2, 3, 4, 5, 6, 28], dtype =float)\n",
        "divisor = np.array ([0.5, 1, 1.5, 2, 2.5, 3, 14], dtype=float)"
      ],
      "metadata": {
        "id": "EWEWxKel3jRw"
      },
      "execution_count": null,
      "outputs": []
    },
    {
      "cell_type": "code",
      "source": [
        "capa = tf.keras.layers.Dense(units=1, input_shape=[1])\n",
        "modelo = tf.keras.Sequential([capa])"
      ],
      "metadata": {
        "id": "QH0WqJ-J4adR",
        "colab": {
          "base_uri": "https://localhost:8080/"
        },
        "outputId": "f5c7a056-47f8-4eb3-fced-80ae953c3f44"
      },
      "execution_count": null,
      "outputs": [
        {
          "output_type": "stream",
          "name": "stderr",
          "text": [
            "/usr/local/lib/python3.11/dist-packages/keras/src/layers/core/dense.py:87: UserWarning: Do not pass an `input_shape`/`input_dim` argument to a layer. When using Sequential models, prefer using an `Input(shape)` object as the first layer in the model instead.\n",
            "  super().__init__(activity_regularizer=activity_regularizer, **kwargs)\n"
          ]
        }
      ]
    },
    {
      "cell_type": "code",
      "source": [
        "modelo.compile(\n",
        "    optimizer = tf.keras.optimizers.Adam(0.1),\n",
        "    loss = \"mean_squared_error\"\n",
        ")"
      ],
      "metadata": {
        "id": "EU45QY0T46XS"
      },
      "execution_count": null,
      "outputs": []
    },
    {
      "cell_type": "code",
      "source": [
        "print (\"Entrenando...\")\n",
        "historial = modelo.fit(dividendo, divisor, epochs=1000, verbose=False)\n",
        "print (\"Finish\")"
      ],
      "metadata": {
        "colab": {
          "base_uri": "https://localhost:8080/"
        },
        "id": "V6kM8asz5Mo7",
        "outputId": "9711ae00-a3ea-406b-acf3-680126baaa45"
      },
      "execution_count": null,
      "outputs": [
        {
          "output_type": "stream",
          "name": "stdout",
          "text": [
            "Entrenando...\n",
            "Finish\n"
          ]
        }
      ]
    },
    {
      "cell_type": "code",
      "source": [
        "import matplotlib.pyplot as plt\n",
        "plt.xlabel(\"#Epoca\")\n",
        "plt.ylabel (\"Perdida\")\n",
        "plt.plot(historial.history[\"loss\"])"
      ],
      "metadata": {
        "colab": {
          "base_uri": "https://localhost:8080/",
          "height": 466
        },
        "id": "kjKbcc3w5vgx",
        "outputId": "e96b746c-fec3-4eff-bb6f-0016759addd2"
      },
      "execution_count": null,
      "outputs": [
        {
          "output_type": "execute_result",
          "data": {
            "text/plain": [
              "[<matplotlib.lines.Line2D at 0x7afd1c158d50>]"
            ]
          },
          "metadata": {},
          "execution_count": 6
        },
        {
          "output_type": "display_data",
          "data": {
            "text/plain": [
              "<Figure size 640x480 with 1 Axes>"
            ],
            "image/png": "[encoded data removed]"
          },
          "metadata": {}
        }
      ]
    },
    {
      "cell_type": "code",
      "source": [
        "while True:\n",
        "    try:\n",
        "        x = float(input(\"Ingrese el número que quiere dividir entre 2 \"))\n",
        "        break  # Exit the loop if input is successfully converted to float\n",
        "    except ValueError:\n",
        "        print(\"Invalid input. Please enter a valid number.\")\n",
        "\n",
        "resultado = modelo.predict(np.array([x])) # Convert the input to a NumPy array\n",
        "print (\"El resultado es: \", str(resultado))"
      ],
      "metadata": {
        "id": "qIi2e1xb6PNa"
      },
      "execution_count": null,
      "outputs": []
    },
    {
      "cell_type": "code",
      "source": [
        "print (\"Los valores son: \")\n",
        "print (capa.get_weights())"
      ],
      "metadata": {
        "colab": {
          "base_uri": "https://localhost:8080/"
        },
        "id": "0XZJ5-xs71YI",
        "outputId": "41e4740f-0d6b-470f-a887-161b785d94df"
      },
      "execution_count": null,
      "outputs": [
        {
          "output_type": "stream",
          "name": "stdout",
          "text": [
            "Los valores son: \n",
            "[array([[0.5]], dtype=float32), array([-1.3153394e-08], dtype=float32)]\n"
          ]
        }
      ]
    }
  ]
}